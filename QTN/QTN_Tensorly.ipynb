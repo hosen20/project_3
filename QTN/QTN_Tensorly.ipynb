{
  "nbformat": 4,
  "nbformat_minor": 0,
  "metadata": {
    "colab": {
      "provenance": []
    },
    "kernelspec": {
      "name": "python3",
      "display_name": "Python 3"
    },
    "language_info": {
      "name": "python"
    }
  },
  "cells": [
    {
      "cell_type": "code",
      "source": [
        "#!pip install tensorly"
      ],
      "metadata": {
        "id": "ZyHfaW1wpCrb"
      },
      "execution_count": 1,
      "outputs": []
    },
    {
      "cell_type": "code",
      "execution_count": 2,
      "metadata": {
        "id": "9Su80J3Bo2Du"
      },
      "outputs": [],
      "source": [
        "from tensorly.decomposition import tensor_train\n",
        "import numpy as np\n",
        "import torch\n",
        "def initialize_mps(N, bond_dim=10, init_type='linear'):\n",
        "    x = torch.linspace(0, 1, 2**N)  # Use torch instead of np\n",
        "    u0 = x if init_type == 'linear' else torch.sin(torch.pi * x)\n",
        "    u_tensor = u0.reshape([2]*N)  # Reshape using torch\n",
        "    return tl.decomposition.tensor_train(u_tensor, rank=bond_dim)"
      ]
    },
    {
      "cell_type": "code",
      "source": [
        "from scipy.linalg import toeplitz\n",
        "def finite_diff_operator(N):\n",
        "    stencil = np.array([-1, 0, 1]) / 2  # central difference\n",
        "    kernel = toeplitz(stencil, np.zeros(N))\n",
        "    return kernel"
      ],
      "metadata": {
        "id": "m5uxv4eOpA-U"
      },
      "execution_count": 3,
      "outputs": []
    },
    {
      "cell_type": "code",
      "source": [
        "import tensorly as tl\n",
        "from tensorly.tt_matrix import tt_matrix_to_tensor\n",
        "tl.set_backend('pytorch')  # or 'tensorflow'\n",
        "def evolve_mps(u_mps, dt, dx, nu, N):\n",
        "\n",
        "    # Convert MPS to PyTorch tensor\n",
        "    u_tensor = tl.tt_to_tensor(u_mps).reshape(2**N)\n",
        "\n",
        "    # Convert to NumPy array for gradient calculations\n",
        "    u_np = u_tensor.detach().cpu().numpy()\n",
        "\n",
        "    # Compute gradients\n",
        "    du_dx = np.gradient(u_np, dx)\n",
        "    d2u_dx2 = np.gradient(du_dx, dx)\n",
        "\n",
        "    # Time evolution\n",
        "    u_next = u_np - dt * u_np * du_dx + nu * dt * d2u_dx2\n",
        "\n",
        "    # Sanitize and normalize\n",
        "    u_next = np.nan_to_num(u_next, nan=0.0, posinf=1e6, neginf=-1e6)\n",
        "    u_next /= np.max(np.abs(u_next)) + 1e-12\n",
        "\n",
        "    # Convert back to PyTorch tensor\n",
        "    u_tensor = torch.tensor(u_next.reshape([2]*N), dtype=torch.float32)\n",
        "\n",
        "    # Return updated MPS\n",
        "    return tl.decomposition.tensor_train(u_tensor, rank=10)\n"
      ],
      "metadata": {
        "id": "nxB3eLbZpPFb"
      },
      "execution_count": 4,
      "outputs": []
    },
    {
      "cell_type": "code",
      "source": [
        "def sample_pixels(u_mps, num_samples=100):\n",
        "    import tensorly as tl\n",
        "    import numpy as np\n",
        "\n",
        "    # Convert MPS to PyTorch tensor and then to NumPy\n",
        "    u_tensor = tl.tt_to_tensor(u_mps).reshape(-1)\n",
        "    u_np = u_tensor.detach().cpu().numpy()\n",
        "\n",
        "    # Sanitize values\n",
        "    u_np = np.nan_to_num(u_np, nan=0.0, posinf=0.0, neginf=0.0)\n",
        "\n",
        "    # Compute probability distribution\n",
        "    prob = u_np**2\n",
        "    total = np.sum(prob)\n",
        "\n",
        "    # Handle edge case: all zeros\n",
        "    if total == 0 or np.isnan(total) or np.isinf(total):\n",
        "        prob = np.ones_like(prob) / len(prob)\n",
        "    else:\n",
        "        prob /= total  # Normalize safely\n",
        "\n",
        "    # Final check\n",
        "    prob = prob / np.sum(prob)  # Ensure exact normalization\n",
        "\n",
        "    # Sample indices\n",
        "    indices = np.random.choice(len(u_np), size=num_samples, p=prob)\n",
        "    return indices, u_np[indices]"
      ],
      "metadata": {
        "id": "mDiDWmxUzKqN"
      },
      "execution_count": 6,
      "outputs": []
    },
    {
      "cell_type": "code",
      "source": [
        "def enforce_dirichlet_direct(mps, u_left, u_right):\n",
        "    # Modify only boundary slices, not the whole tensor\n",
        "\n",
        "    # First site tensor\n",
        "    core0 = mps.factors[0].clone()  # shape: [1, phys_dim, bond_dim]\n",
        "    core0[0, 0, :] = u_left         # Assuming index 0 is x = 0\n",
        "    mps.factors[0] = core0\n",
        "\n",
        "    # Last site tensor\n",
        "    coreN = mps.factors[-1].clone()  # shape: [bond_dim, phys_dim, 1]\n",
        "    coreN[:, 0, 0] = u_right         # Assuming index 0 is x = 1\n",
        "    mps.factors[-1] = coreN\n",
        "\n",
        "    return mps"
      ],
      "metadata": {
        "id": "DOa9xyluxJuw"
      },
      "execution_count": 7,
      "outputs": []
    },
    {
      "cell_type": "code",
      "source": [
        "def sample_pixels_quantum(mps, num_samples=100):\n",
        "    import torch\n",
        "\n",
        "    N = len(mps.factors)\n",
        "    samples = []\n",
        "\n",
        "    for _ in range(num_samples):\n",
        "        idx_bits = []\n",
        "\n",
        "        # Start with a trivial boundary contraction\n",
        "        left_env = torch.ones(1, 1)  # initial left environment\n",
        "\n",
        "        for n in range(N):\n",
        "            core = mps.factors[n]  # shape: [Dl, phys_dim, Dr]\n",
        "            probs = []\n",
        "\n",
        "            # Compute marginal for each bit value (0 or 1)\n",
        "            for bit_val in range(core.shape[1]):\n",
        "                slice_n = core[:, bit_val, :]  # tensor slice for phys_idx = bit_val\n",
        "                temp = left_env @ slice_n  # contract with left environment\n",
        "                probs.append(torch.norm(temp)**2)\n",
        "\n",
        "            # Normalize to get probabilities\n",
        "            probs = torch.tensor(probs)\n",
        "            probs += 1e-12  # avoid zero\n",
        "            probs = probs / probs.sum()\n",
        "\n",
        "            # Sample bit value (0 or 1)\n",
        "            sampled_bit = torch.multinomial(probs, 1).item()\n",
        "            idx_bits.append(sampled_bit)\n",
        "\n",
        "            # Update environment for next site\n",
        "            left_env = left_env @ core[:, sampled_bit, :]\n",
        "\n",
        "        # Convert bit list to flat index\n",
        "        idx = sum([b << (N - 1 - i) for i, b in enumerate(idx_bits)])\n",
        "        samples.append(idx)\n",
        "\n",
        "    return samples"
      ],
      "metadata": {
        "id": "1BvLKmPH4cI2"
      },
      "execution_count": 8,
      "outputs": []
    },
    {
      "cell_type": "code",
      "source": [
        "import matplotlib.pyplot as plt\n",
        "def plot_solution(u_mps, N):\n",
        "    u = tl.tt_to_tensor(u_mps).reshape(2**N)\n",
        "    x = np.linspace(0, 1, 2**N)\n",
        "    plt.plot(x, u)\n",
        "    plt.xlabel('x')\n",
        "    plt.ylabel('u(x)')\n",
        "    plt.title('1D Burgers’ Equation Solution via MPS')\n",
        "    plt.grid()\n",
        "    plt.show()"
      ],
      "metadata": {
        "id": "dPfB-qVnpZYf"
      },
      "execution_count": 9,
      "outputs": []
    },
    {
      "cell_type": "code",
      "source": [
        "def truncate_mps(mps, rank):\n",
        "        full_tensor = tl.tt_to_tensor(mps)\n",
        "        truncated = tl.decomposition.tensor_train(full_tensor, rank=rank)\n",
        "        return truncated"
      ],
      "metadata": {
        "id": "wZIqLUHZyRBg"
      },
      "execution_count": 10,
      "outputs": []
    },
    {
      "cell_type": "code",
      "source": [
        "from time import time\n",
        "def main():\n",
        "\n",
        "    # Simulation parameters\n",
        "    N = 8                    # Number of bits => mesh size = 2^N\n",
        "    dx = 1.0 / (2**N)        # Spatial resolution\n",
        "    dt = 0.001               # Time step\n",
        "    T = 1.0                  # Total simulation time\n",
        "    nu = 0.01                # Viscosity\n",
        "    steps = int(T / dt)      # Number of steps\n",
        "\n",
        "    # Initialize MPS field\n",
        "    print(\"Initializing velocity field...\")\n",
        "    u_mps = initialize_mps(N, bond_dim=10, init_type='sinusoidal')\n",
        "\n",
        "    # Time evolution\n",
        "    print(f\"Evolving for {steps} steps...\")\n",
        "    t_start = time()\n",
        "    for _ in range(steps):\n",
        "        u_mps = evolve_mps(u_mps, dt, dx, nu, N)\n",
        "        u_mps = enforce_dirichlet_direct(u_mps, 1.0, 0.0)\n",
        "        u_mps = truncate_mps(u_mps, rank=10)\n",
        "    print(f\"Simulation complete in {time() - t_start:.2f} seconds\")\n",
        "\n",
        "    # Sampling points\n",
        "    print(\"Sampling solution points...\")\n",
        "    indices, sampled_values = sample_pixels(u_mps, num_samples=50)\n",
        "    print(\"Sampled indices and values:\")\n",
        "    for idx, val in zip(indices, sampled_values):\n",
        "        print(f\"x = {idx * dx:.4f}, u = {val:.4f}\")\n",
        "\n",
        "    # Plotting\n",
        "    print(\"Plotting final solution...\")\n",
        "    plot_solution(u_mps, N)\n",
        "\n",
        "\n",
        "# Execute\n",
        "if __name__ == \"__main__\":\n",
        "    main()"
      ],
      "metadata": {
        "colab": {
          "base_uri": "https://localhost:8080/",
          "height": 1000
        },
        "id": "8eIKtEoVp7WA",
        "outputId": "05329ea0-0ea1-4ae6-ead1-470dbd9fc923"
      },
      "execution_count": 11,
      "outputs": [
        {
          "output_type": "stream",
          "name": "stdout",
          "text": [
            "Initializing velocity field...\n",
            "Evolving for 1000 steps...\n",
            "Simulation complete in 5.22 seconds\n",
            "Sampling solution points...\n",
            "Sampled indices and values:\n",
            "x = 0.5039, u = 0.5072\n",
            "x = 0.4961, u = 1.4178\n",
            "x = 0.0039, u = 0.7186\n",
            "x = 0.4961, u = 1.4178\n",
            "x = 0.4961, u = 1.4178\n",
            "x = 0.9961, u = 1.0000\n",
            "x = 0.4961, u = 1.4178\n",
            "x = 0.4883, u = 0.5079\n",
            "x = 0.5039, u = 0.5072\n",
            "x = 0.4961, u = 1.4178\n",
            "x = 0.9961, u = 1.0000\n",
            "x = 0.0039, u = 0.7186\n",
            "x = 0.4961, u = 1.4178\n",
            "x = 0.4883, u = 0.5079\n",
            "x = 0.5039, u = 0.5072\n",
            "x = 0.9961, u = 1.0000\n",
            "x = 0.0039, u = 0.7186\n",
            "x = 0.9961, u = 1.0000\n",
            "x = 0.4961, u = 1.4178\n",
            "x = 0.9961, u = 1.0000\n",
            "x = 0.4961, u = 1.4178\n",
            "x = 0.4961, u = 1.4178\n",
            "x = 0.9961, u = 1.0000\n",
            "x = 0.4961, u = 1.4178\n",
            "x = 0.4961, u = 1.4178\n",
            "x = 0.4961, u = 1.4178\n",
            "x = 0.4961, u = 1.4178\n",
            "x = 0.0039, u = 0.7186\n",
            "x = 0.4961, u = 1.4178\n",
            "x = 0.9961, u = 1.0000\n",
            "x = 0.9805, u = 0.1280\n",
            "x = 0.4961, u = 1.4178\n",
            "x = 0.4961, u = 1.4178\n",
            "x = 0.4961, u = 1.4178\n",
            "x = 0.9883, u = 0.3578\n",
            "x = 0.4961, u = 1.4178\n",
            "x = 0.4961, u = 1.4178\n",
            "x = 0.4961, u = 1.4178\n",
            "x = 0.0039, u = 0.7186\n",
            "x = 0.9961, u = 1.0000\n",
            "x = 0.4961, u = 1.4178\n",
            "x = 0.0039, u = 0.7186\n",
            "x = 0.4961, u = 1.4178\n",
            "x = 0.0039, u = 0.7186\n",
            "x = 0.9883, u = 0.3578\n",
            "x = 0.4961, u = 1.4178\n",
            "x = 0.4961, u = 1.4178\n",
            "x = 0.9961, u = 1.0000\n",
            "x = 0.4961, u = 1.4178\n",
            "x = 0.4961, u = 1.4178\n",
            "Plotting final solution...\n"
          ]
        },
        {
          "output_type": "display_data",
          "data": {
            "text/plain": [
              "<Figure size 640x480 with 1 Axes>"
            ],
            "image/png": "[encoded data removed]"
          },
          "metadata": {}
        }
      ]
    }
  ]
}