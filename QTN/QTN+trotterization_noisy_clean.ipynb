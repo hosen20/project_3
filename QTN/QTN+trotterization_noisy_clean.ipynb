{
  "nbformat": 4,
  "nbformat_minor": 0,
  "metadata": {
    "colab": {
      "provenance": []
    },
    "kernelspec": {
      "name": "python3",
      "display_name": "Python 3"
    },
    "language_info": {
      "name": "python"
    }
  },
  "cells": [
    {
      "cell_type": "markdown",
      "source": [
        "# QTN + Trotterization Noisy Simulation:\n",
        "\n",
        "Using qiskit noisy FakeBackend FakeManilaV2"
      ],
      "metadata": {
        "id": "0ooTMCasytJ0"
      }
    },
    {
      "cell_type": "markdown",
      "source": [
        "In this notebook we perform simulation with noise, several methods are available like importing the noise model of a specific backend from qiskit ibm runtime service, or using a noisy qiskit fake backend as in our solution, or building a noise model from scratch.\n",
        "\n",
        "To have a realistic noise model we will use the fake backends from qiskit instead of building our own one from scratch. Also, as importing from the ibm runtime service requires an account, we will proceed only with the fake backend as it does not require an online account."
      ],
      "metadata": {
        "id": "my5XtBydzH4F"
      }
    },
    {
      "cell_type": "markdown",
      "source": [
        "### Outline:\n",
        "<ol>\n",
        "<li>Required imports.</li>\n",
        "<li>Backend.</li>\n",
        "<li>Building the QTN+trotterization circuit.</li>\n",
        "<li>DD: Dynamic decoupling error mitigation.</li>\n",
        "<li>ZNE.</li>\n",
        "<li>Comparison table.</li>\n",
        "<li>Versions.</li>\n",
        "</ol>"
      ],
      "metadata": {
        "id": "UNdxAlKHKEJ8"
      }
    },
    {
      "cell_type": "code",
      "execution_count": 44,
      "metadata": {
        "id": "5HsnCcG5xiA8"
      },
      "outputs": [],
      "source": [
        "#!pip install qiskit"
      ]
    },
    {
      "cell_type": "code",
      "source": [
        "#!pip install qiskit-aer"
      ],
      "metadata": {
        "id": "WOUpzNDZHzSt"
      },
      "execution_count": 45,
      "outputs": []
    },
    {
      "cell_type": "code",
      "source": [
        "#!pip install qiskit-ibm-runtime"
      ],
      "metadata": {
        "id": "C7gdheXNq5JF"
      },
      "execution_count": 46,
      "outputs": []
    },
    {
      "cell_type": "markdown",
      "source": [
        "### Required imports:"
      ],
      "metadata": {
        "id": "NDF0PhTW0Iiw"
      }
    },
    {
      "cell_type": "code",
      "source": [
        "from qiskit.quantum_info import Statevector\n",
        "from qiskit import QuantumCircuit, transpile, ClassicalRegister\n",
        "from qiskit_aer import AerSimulator\n",
        "from qiskit_ibm_runtime.fake_provider import FakeManilaV2\n",
        "\n",
        "from qiskit.circuit.library import XGate, YGate\n",
        "from qiskit.transpiler import InstructionProperties\n",
        "from qiskit.transpiler import PassManager\n",
        "from qiskit.transpiler.passes.scheduling import (\n",
        "    ALAPScheduleAnalysis,\n",
        "    PadDynamicalDecoupling,\n",
        ")\n",
        "\n",
        "import numpy as np\n",
        "import matplotlib.pyplot as plt\n",
        "import networkx as nx"
      ],
      "metadata": {
        "id": "6YSOekfiG2hx"
      },
      "execution_count": 47,
      "outputs": []
    },
    {
      "cell_type": "markdown",
      "source": [
        "### Backend:\n",
        "\n",
        "The following table shows a comparison between using the noise model from an online backend and from a fake backend and it also clearly mentions that both noise models do not resemble all errors in the real QPU like crosstalk and non-Markovian drift."
      ],
      "metadata": {
        "id": "KvGjUSyI2ybA"
      }
    },
    {
      "cell_type": "markdown",
      "source": [
        "<table>\n",
        "  <thead>\n",
        "    <tr>\n",
        "      <th>Aspect</th>\n",
        "      <th><code>from_backend</code></th>\n",
        "      <th>Fake Backend (snapshot)</th>\n",
        "    </tr>\n",
        "  </thead>\n",
        "  <tbody>\n",
        "    <tr>\n",
        "      <td>Gate and readout errors</td>\n",
        "      <td>Latest calibration from hardware</td>\n",
        "      <td>Hard-coded from an older snapshot</td>\n",
        "    </tr>\n",
        "    <tr>\n",
        "      <td>T₁/T₂ relaxation</td>\n",
        "      <td>Current device parameters</td>\n",
        "      <td>Hard-coded from an older snapshot</td>\n",
        "    </tr>\n",
        "    <tr>\n",
        "      <td>Crosstalk / correlated errors</td>\n",
        "      <td>Not included</td>\n",
        "      <td>Not included</td>\n",
        "    </tr>\n",
        "    <tr>\n",
        "      <td>Non-Markovian drift</td>\n",
        "      <td>Not captured</td>\n",
        "      <td>Not captured</td>\n",
        "    </tr>\n",
        "    <tr>\n",
        "      <td>Snapshot freshness</td>\n",
        "      <td>Always up-to-date</td>\n",
        "      <td>Only updated if you call <code>refresh()</code></td>\n",
        "    </tr>\n",
        "  </tbody>\n",
        "</table>\n"
      ],
      "metadata": {
        "id": "gseQKTJt2lPZ"
      }
    },
    {
      "cell_type": "code",
      "source": [
        "# Get a fake backend from the fake provider\n",
        "backend = FakeManilaV2() # 5 qubits"
      ],
      "metadata": {
        "id": "u3i2Vywc0E2P"
      },
      "execution_count": 48,
      "outputs": []
    },
    {
      "cell_type": "markdown",
      "source": [
        "The following 2 cells show the Readout errors and T1 and T2 errors at each qubit. T₁ is the energy‐relaxation time constant governing amplitude‐damping errors, where a qubit in |1⟩ decays to |0⟩ at rate 1/T₁. T₂ is the dephasing time constant governing phase‐flip errors, where the off-diagonal coherence terms decay at rate 1/T₂. Together, T₁ and T₂ set the decoherence limits that constrain gate fidelity and algorithm runtimes on real quantum hardware."
      ],
      "metadata": {
        "id": "i0kfFSQF8nIF"
      }
    },
    {
      "cell_type": "code",
      "source": [
        "properties = backend.properties()\n",
        "for qubit in range(backend.num_qubits):\n",
        "    # Find the T1 and T2 entries in the properties for this qubit\n",
        "    entries = properties.qubits[qubit]\n",
        "    t1 = next(item.value for item in entries if item.name == \"T1\")\n",
        "    t2 = next(item.value for item in entries if item.name == \"T2\")\n",
        "    print(f\"Qubit {qubit}: T1 = {t1:.2e} s, T2 = {t2:.2e} s\")"
      ],
      "metadata": {
        "colab": {
          "base_uri": "https://localhost:8080/"
        },
        "id": "ZyG5HGS58mDP",
        "outputId": "c0981ade-fb7f-43b7-eba5-afd9b0497684"
      },
      "execution_count": 49,
      "outputs": [
        {
          "output_type": "stream",
          "name": "stdout",
          "text": [
            "Qubit 0: T1 = 1.32e+02 s, T2 = 1.02e+02 s\n",
            "Qubit 1: T1 = 1.25e+02 s, T2 = 7.90e+01 s\n",
            "Qubit 2: T1 = 1.59e+02 s, T2 = 2.52e+01 s\n",
            "Qubit 3: T1 = 1.79e+02 s, T2 = 5.44e+01 s\n",
            "Qubit 4: T1 = 1.45e+02 s, T2 = 4.03e+01 s\n"
          ]
        }
      ]
    },
    {
      "cell_type": "code",
      "source": [
        "for qubit in range(backend.num_qubits):\n",
        "    ro_err = properties.readout_error(qubit)\n",
        "    print(f\"Qubit {qubit}: average readout error = {ro_err:.2%}\")"
      ],
      "metadata": {
        "colab": {
          "base_uri": "https://localhost:8080/"
        },
        "id": "giL5S5Lu85vX",
        "outputId": "5b7659b5-48c6-45ef-b9e0-863708ad90bd"
      },
      "execution_count": 50,
      "outputs": [
        {
          "output_type": "stream",
          "name": "stdout",
          "text": [
            "Qubit 0: average readout error = 3.53%\n",
            "Qubit 1: average readout error = 2.19%\n",
            "Qubit 2: average readout error = 9.64%\n",
            "Qubit 3: average readout error = 1.44%\n",
            "Qubit 4: average readout error = 1.86%\n"
          ]
        }
      ]
    },
    {
      "cell_type": "markdown",
      "source": [
        "The following table shows the error rates for different gates on different qubits. The next cell can be uncommented to show the same results, but since the result is a little big and messy they were organized in a clear and neat table."
      ],
      "metadata": {
        "id": "XGXujVyA9sqG"
      }
    },
    {
      "cell_type": "markdown",
      "source": [
        "| Gate    | Qubits   | Gate Error               |\n",
        "|---------|----------|--------------------------|\n",
        "| id0     | [0]      | 0.00015506593900605392   |\n",
        "| id1     | [1]      | 0.000392193487309583     |\n",
        "| id2     | [2]      | 0.0007458158897263205    |\n",
        "| id3     | [3]      | 0.00021221916498544087   |\n",
        "| id4     | [4]      | 0.0003538722158551261    |\n",
        "| rz0     | [0]      | 0                        |\n",
        "| rz1     | [1]      | 0                        |\n",
        "| rz2     | [2]      | 0                        |\n",
        "| rz3     | [3]      | 0                        |\n",
        "| rz4     | [4]      | 0                        |\n",
        "| sx0     | [0]      | 0.00015506593900605392   |\n",
        "| sx1     | [1]      | 0.000392193487309583     |\n",
        "| sx2     | [2]      | 0.0007458158897263205    |\n",
        "| sx3     | [3]      | 0.00021221916498544087   |\n",
        "| sx4     | [4]      | 0.0003538722158551261    |\n",
        "| x0      | [0]      | 0.00015506593900605392   |\n",
        "| x1      | [1]      | 0.000392193487309583     |\n",
        "| x2      | [2]      | 0.0007458158897263205    |\n",
        "| x3      | [3]      | 0.00021221916498544087   |\n",
        "| x4      | [4]      | 0.0003538722158551261    |\n",
        "| cx4_3   | [4,3]    | 0.005696275468624307     |\n",
        "| cx3_4   | [3,4]    | 0.005696275468624307     |\n",
        "| cx2_3   | [2,3]    | 0.011354122839193792     |\n",
        "| cx3_2   | [3,2]    | 0.011354122839193792     |\n",
        "| cx1_2   | [1,2]    | 0.01394038580879381      |\n",
        "| cx2_1   | [2,1]    | 0.01394038580879381      |\n",
        "| cx0_1   | [0,1]    | 0.008827712070629129     |\n",
        "| cx1_0   | [1,0]    | 0.008827712070629129     |\n"
      ],
      "metadata": {
        "id": "RMFkEePv6c3v"
      }
    },
    {
      "cell_type": "code",
      "source": [
        "#for gate in properties.gates:\n",
        "#    print(f\"Gate: {gate.name}, Qubits: {gate.qubits}\")\n",
        "#    for param in gate.parameters:\n",
        "#        if param.name == 'gate_error':\n",
        "#            print(f\"  Gate error: {param.value}\")"
      ],
      "metadata": {
        "id": "S5AhhlaxOA_V"
      },
      "execution_count": 51,
      "outputs": []
    },
    {
      "cell_type": "code",
      "source": [
        "plt.figure(figsize=(3,3))\n",
        "nx.draw(nx.DiGraph(backend.configuration().coupling_map), with_labels=True, node_size=250);\n",
        "plt.title(\"QPU Coupling Map of FakeManilaV2\");\n",
        "plt.show()"
      ],
      "metadata": {
        "colab": {
          "base_uri": "https://localhost:8080/",
          "height": 359
        },
        "id": "wtLyaGSR_e-4",
        "outputId": "06602cbb-486d-4fff-c255-4eaaec5a85fc"
      },
      "execution_count": 52,
      "outputs": [
        {
          "output_type": "display_data",
          "data": {
            "text/plain": [
              "<Figure size 300x300 with 1 Axes>"
            ],
            "image/png": "[encoded data removed]"
          },
          "metadata": {}
        }
      ]
    },
    {
      "cell_type": "markdown",
      "source": [
        "### Building the QTN+trotterization circuit:"
      ],
      "metadata": {
        "id": "4qwhfQab-E2w"
      }
    },
    {
      "cell_type": "markdown",
      "source": [
        "The circuit to run consists of two parts, the MPS circuit which uses QTN to encode the starting state and the trotter circuit which contains the operator that performs trotterization.\n",
        "\n",
        "So we will import these two circuits from a prepared qasm file and we will append the trotter circuit to the MPS circuit."
      ],
      "metadata": {
        "id": "f1itmIAcEuev"
      }
    },
    {
      "cell_type": "code",
      "source": [
        "# Trotter circuit\n",
        "qasm_path = \"/content/LieTrotter_operator_4.qasm\"   # path to your QASM2 file\n",
        "with open(qasm_path, \"r\") as f:\n",
        "    qasm_str = f.read()\n",
        "\n",
        "qc2 = QuantumCircuit.from_qasm_str(qasm_str)"
      ],
      "metadata": {
        "id": "3hq2dSzh6SPJ"
      },
      "execution_count": 53,
      "outputs": []
    },
    {
      "cell_type": "code",
      "source": [
        "# MPS circuit\n",
        "qasm_path = \"/content/MPS_Circuit_4.qasm\"   # path to your QASM2 file\n",
        "with open(qasm_path, \"r\") as f:\n",
        "    qasm_str = f.read()\n",
        "\n",
        "qc1 = QuantumCircuit.from_qasm_str(qasm_str)"
      ],
      "metadata": {
        "id": "twgbzaiONXrl"
      },
      "execution_count": 54,
      "outputs": []
    },
    {
      "cell_type": "code",
      "source": [
        "qc = qc1.compose(qc2)"
      ],
      "metadata": {
        "id": "oaaNyxovN5WO"
      },
      "execution_count": 55,
      "outputs": []
    },
    {
      "cell_type": "code",
      "source": [
        "print(qc.num_qubits)"
      ],
      "metadata": {
        "colab": {
          "base_uri": "https://localhost:8080/"
        },
        "id": "Qj-R1LmVYUdO",
        "outputId": "e3f0c36a-5305-46a6-f380-af0017136b42"
      },
      "execution_count": 56,
      "outputs": [
        {
          "output_type": "stream",
          "name": "stdout",
          "text": [
            "4\n"
          ]
        }
      ]
    },
    {
      "cell_type": "markdown",
      "source": [
        "We would like to compare for three steps, so we will make three circuits. If we want to perform 3 steps, we start with the MPS circuit and we append the trotter circuit 3 times to it. So the trotter operator is performed 3 times. For dirichlet boundaries, we have explained in a previous notebook that we are enforcing it every couple of steps and not at every step. As if we do so, we will need after each step to re-encode the MPS circuit again after getting the statevector and this will make the errors for building the initial state accumulate with each step.\n",
        "\n",
        "We were enforcing dirichlet after each 10 steps, and since we are using here 1, 2 and 3 steps, we just enforce after we finish all the steps as the number of steps is less than 10."
      ],
      "metadata": {
        "id": "dhfununaFntR"
      }
    },
    {
      "cell_type": "code",
      "source": [
        "qc_1_step = qc.copy()\n",
        "qc_2_steps = qc_1_step.compose(qc2)\n",
        "qc_3_steps = qc_2_steps.compose(qc2)"
      ],
      "metadata": {
        "id": "PAt2Fmu2HWSy"
      },
      "execution_count": 57,
      "outputs": []
    },
    {
      "cell_type": "markdown",
      "source": [
        "Now we transpile the circuits for the fake backend, FakeManilaV2 and we show the depth and gate counts for each of the 3 circuits."
      ],
      "metadata": {
        "id": "6mrSu1yeHsA-"
      }
    },
    {
      "cell_type": "code",
      "source": [
        "layout = [0, 1, 2, 3]\n",
        "qc_1_step_t = transpile(qc_1_step, backend=backend, initial_layout=layout) # _t means transpiled\n",
        "qc_2_steps_t = transpile(qc_2_steps, backend=backend, initial_layout=layout)\n",
        "qc_3_steps_t = transpile(qc_3_steps, backend=backend, initial_layout=layout)"
      ],
      "metadata": {
        "id": "-skx9oRLH1-E"
      },
      "execution_count": 58,
      "outputs": []
    },
    {
      "cell_type": "code",
      "source": [
        "print(\"Depth of 1 step = \", qc_1_step_t.depth())\n",
        "print(\"Gates for 1 step: \", qc_1_step_t.count_ops())\n",
        "\n",
        "print(\"Depth of 2 steps = \", qc_2_steps_t.depth())\n",
        "print(\"Gates for 2 steps: \", qc_2_steps_t.count_ops())\n",
        "\n",
        "print(\"Depth of 3 steps = \", qc_3_steps_t.depth())\n",
        "print(\"Gates for 3 steps: \", qc_3_steps_t.count_ops())"
      ],
      "metadata": {
        "colab": {
          "base_uri": "https://localhost:8080/"
        },
        "id": "3jNL231fIcq-",
        "outputId": "f3b04123-1a4b-4cbf-a468-93a70ebb803b"
      },
      "execution_count": 59,
      "outputs": [
        {
          "output_type": "stream",
          "name": "stdout",
          "text": [
            "Depth of 1 step =  104\n",
            "Gates for 1 step:  OrderedDict([('rz', 89), ('sx', 55), ('cx', 50), ('x', 5)])\n",
            "Depth of 2 steps =  203\n",
            "Gates for 2 steps:  OrderedDict([('rz', 170), ('sx', 103), ('cx', 100), ('x', 11)])\n",
            "Depth of 3 steps =  302\n",
            "Gates for 3 steps:  OrderedDict([('rz', 251), ('sx', 151), ('cx', 150), ('x', 17)])\n"
          ]
        }
      ]
    },
    {
      "cell_type": "markdown",
      "source": [
        "We will save now the ideal state before running with noise for later comparison to find the L2 error."
      ],
      "metadata": {
        "id": "IDWK58ZZI153"
      }
    },
    {
      "cell_type": "code",
      "source": [
        "ideal_psi_1 = Statevector(qc_1_step).data\n",
        "ideal_psi_2 = Statevector(qc_2_steps).data\n",
        "ideal_psi_3 = Statevector(qc_3_steps).data"
      ],
      "metadata": {
        "id": "r9djswpYI1ZL"
      },
      "execution_count": 60,
      "outputs": []
    },
    {
      "cell_type": "markdown",
      "source": [
        "### DD: Dynamic decoupling error mitigation\n",
        "\n",
        "Dynamic decoupling is a pulse-sequence technique that repeatedly flips a qubit’s state to average out unwanted interactions with its environment. By carefully timing these flips, low-frequency noise and drift in the control fields get “refocused,” much like a spin-echo in NMR experiments."
      ],
      "metadata": {
        "id": "M8NB_L_EJG3f"
      }
    },
    {
      "cell_type": "code",
      "source": [
        "target = backend.target\n",
        "basis_gates = list(target.operation_names)"
      ],
      "metadata": {
        "id": "k24zWCRkrCyB"
      },
      "execution_count": 61,
      "outputs": []
    },
    {
      "cell_type": "code",
      "source": [
        "backend.configuration().n_qubits"
      ],
      "metadata": {
        "colab": {
          "base_uri": "https://localhost:8080/"
        },
        "id": "xpVRtDZK-B0n",
        "outputId": "3a0c90c4-e868-4c8c-988e-ce13bd26ec27"
      },
      "execution_count": 62,
      "outputs": [
        {
          "output_type": "execute_result",
          "data": {
            "text/plain": [
              "5"
            ]
          },
          "metadata": {},
          "execution_count": 62
        }
      ]
    },
    {
      "cell_type": "markdown",
      "source": [
        "To perform dynamic decoupling we use the following sequence [X, Y, X, Y]. In fact, the Y gate is not a basis gate of this device so we add it to the device properties and we give the \"Y\" gate the same duration and error as the \"X\" gate."
      ],
      "metadata": {
        "id": "WQ42KmXjLL0R"
      }
    },
    {
      "cell_type": "code",
      "source": [
        "X = XGate()\n",
        "Y = YGate()\n",
        "\n",
        "dd_sequence = [X, Y, X, Y]\n",
        "\n",
        "y_gate_properties = {}\n",
        "for qubit in range(target.num_qubits):\n",
        "    y_gate_properties.update(\n",
        "        {\n",
        "            (qubit,): InstructionProperties(\n",
        "                duration=target[\"x\"][(qubit,)].duration,\n",
        "                error=target[\"x\"][(qubit,)].error,\n",
        "            )\n",
        "        }\n",
        "    )\n",
        "\n",
        "target.add_instruction(YGate(), y_gate_properties)"
      ],
      "metadata": {
        "id": "fDNku80FLMEl"
      },
      "execution_count": 63,
      "outputs": []
    },
    {
      "cell_type": "markdown",
      "source": [
        "We will start first by running the circuits on the noisy backend without dynamic decoupling or any other error mitigation technique. This will help us find if DD and ZNE provided any advantages when compared to circuits having DD or ZNE applied to it.\n",
        "\n",
        "For each circuit, we calculate the counts and we build the final statevector from the counts."
      ],
      "metadata": {
        "id": "j4wui1ZFMvH3"
      }
    },
    {
      "cell_type": "code",
      "source": [
        "n = 4\n",
        "grid_points = 2**n\n",
        "shots = 1000"
      ],
      "metadata": {
        "id": "eIz50GxkOBBJ"
      },
      "execution_count": 64,
      "outputs": []
    },
    {
      "cell_type": "code",
      "source": [
        "# 1 step\n",
        "creg = ClassicalRegister(4)\n",
        "qcirc1 = qc_1_step_t.copy()\n",
        "qcirc1.add_register(creg)\n",
        "qcirc1.measure([0, 1, 2, 3], [0, 1, 2, 3])\n",
        "job = backend.run(qcirc1, shots=1000)\n",
        "counts1 = job.result().get_counts()\n",
        "\n",
        "psi1 = np.array([counts1.get(bin(i).replace('0b', '').zfill(n), 0) for i in range(grid_points)])\n",
        "psi1 = np.sqrt(psi1/shots)\n",
        "psi1 = psi1 / np.linalg.norm(psi1) if np.linalg.norm(psi1) > 0 else psi1\n",
        "\n",
        "psi1"
      ],
      "metadata": {
        "colab": {
          "base_uri": "https://localhost:8080/"
        },
        "id": "rHBXFKAZM_0D",
        "outputId": "4d61bace-8c9b-4d14-d5c1-571713bf9271"
      },
      "execution_count": 65,
      "outputs": [
        {
          "output_type": "execute_result",
          "data": {
            "text/plain": [
              "array([0.70992957, 0.2       , 0.24494897, 0.12247449, 0.23664319,\n",
              "       0.11401754, 0.18439089, 0.09486833, 0.18165902, 0.10488088,\n",
              "       0.18165902, 0.11401754, 0.30166206, 0.11401754, 0.24899799,\n",
              "       0.11401754])"
            ]
          },
          "metadata": {},
          "execution_count": 65
        }
      ]
    },
    {
      "cell_type": "code",
      "source": [
        "# 2 steps\n",
        "creg = ClassicalRegister(4)\n",
        "qcirc2 = qc_2_steps_t.copy()\n",
        "qcirc2.add_register(creg)\n",
        "qcirc2.measure([0, 1, 2, 3], [0, 1, 2, 3])\n",
        "job = backend.run(qcirc2, shots=1000)\n",
        "counts2 = job.result().get_counts()\n",
        "\n",
        "psi2 = np.array([counts2.get(bin(i).replace('0b', '').zfill(n), 0) for i in range(grid_points)])\n",
        "psi2 = np.sqrt(psi2/shots)\n",
        "psi2 = psi2 / np.linalg.norm(psi2) if np.linalg.norm(psi2) > 0 else psi2\n",
        "\n",
        "psi2"
      ],
      "metadata": {
        "colab": {
          "base_uri": "https://localhost:8080/"
        },
        "id": "2MY1JZ_KOySa",
        "outputId": "de2a3177-a5d9-48c0-f230-e0a8249440d6"
      },
      "execution_count": 66,
      "outputs": [
        {
          "output_type": "execute_result",
          "data": {
            "text/plain": [
              "array([0.53572381, 0.2236068 , 0.2607681 , 0.16733201, 0.29664794,\n",
              "       0.13784049, 0.25495098, 0.14832397, 0.23874673, 0.14142136,\n",
              "       0.2258318 , 0.12649111, 0.32557641, 0.12649111, 0.27748874,\n",
              "       0.17320508])"
            ]
          },
          "metadata": {},
          "execution_count": 66
        }
      ]
    },
    {
      "cell_type": "code",
      "source": [
        "# 3 steps\n",
        "creg = ClassicalRegister(4)\n",
        "qcirc3 = qc_3_steps_t.copy()\n",
        "qcirc3.add_register(creg)\n",
        "qcirc3.measure([0, 1, 2, 3], [0, 1, 2, 3])\n",
        "job = backend.run(qcirc3, shots=1000)\n",
        "counts3 = job.result().get_counts()\n",
        "\n",
        "psi3 = np.array([counts3.get(bin(i).replace('0b', '').zfill(n), 0) for i in range(grid_points)])\n",
        "psi3 = np.sqrt(psi3/shots)\n",
        "psi3 = psi3 / np.linalg.norm(psi3) if np.linalg.norm(psi3) > 0 else psi3\n",
        "\n",
        "psi3"
      ],
      "metadata": {
        "colab": {
          "base_uri": "https://localhost:8080/"
        },
        "id": "dt1q8Gf6OyhR",
        "outputId": "b26ac675-5484-4d2a-a41f-a4cb6bb100d9"
      },
      "execution_count": 67,
      "outputs": [
        {
          "output_type": "execute_result",
          "data": {
            "text/plain": [
              "array([0.44271887, 0.25298221, 0.31780497, 0.20493902, 0.26267851,\n",
              "       0.15491933, 0.2258318 , 0.18439089, 0.24899799, 0.18708287,\n",
              "       0.24289916, 0.13416408, 0.30659419, 0.18708287, 0.26457513,\n",
              "       0.21447611])"
            ]
          },
          "metadata": {},
          "execution_count": 67
        }
      ]
    },
    {
      "cell_type": "markdown",
      "source": [
        "In the following cells, we will run and compare the results for each step with its ideal vector calculated before and with the noisy run without dynamic decoupling. The steps are as follow for each circuit of the 3 circuits. Of course all circuits with dynamic decoupling added to it and we will run on the noisy backend.\n",
        "\n",
        "<ol>\n",
        "<li>Run the circuit and get the counts.</li>\n",
        "<li>Build the statevector from the counts.</li>\n",
        "<li>Compare the noisy statevector to the ideal statevector and the noisy without DD using the L2 error.</li>\n",
        "</ol>"
      ],
      "metadata": {
        "id": "0Vk6cHirLjMR"
      }
    },
    {
      "cell_type": "code",
      "source": [
        "dd_pm = PassManager(\n",
        "    [\n",
        "        ALAPScheduleAnalysis(target=target),\n",
        "        PadDynamicalDecoupling(target=target, dd_sequence=dd_sequence),\n",
        "    ]\n",
        ")"
      ],
      "metadata": {
        "id": "H6II6VlsRvkb"
      },
      "execution_count": 68,
      "outputs": []
    },
    {
      "cell_type": "code",
      "source": [
        "# 1 step\n",
        "creg = ClassicalRegister(4)\n",
        "qcirc1dd = dd_pm.run(qc_1_step_t)\n",
        "qcirc1dd.add_register(creg)\n",
        "qcirc1dd.measure([0, 1, 2, 3], [0, 1, 2, 3])\n",
        "job = backend.run(qcirc1dd, shots=1000)\n",
        "counts1dd = job.result().get_counts()\n",
        "\n",
        "psi1dd = np.array([counts1dd.get(bin(i).replace('0b', '').zfill(n), 0) for i in range(grid_points)])\n",
        "psi1dd = np.sqrt(psi1dd/shots)\n",
        "psi1dd = psi1dd / np.linalg.norm(psi1dd) if np.linalg.norm(psi1dd) > 0 else psi1dd\n",
        "\n",
        "psi1dd"
      ],
      "metadata": {
        "colab": {
          "base_uri": "https://localhost:8080/"
        },
        "id": "XFkakZsEsHxP",
        "outputId": "35331e73-0b04-4c7d-897d-e039f5a6544f"
      },
      "execution_count": 69,
      "outputs": [
        {
          "output_type": "execute_result",
          "data": {
            "text/plain": [
              "array([0.6074537 , 0.18708287, 0.27568098, 0.15491933, 0.32710854,\n",
              "       0.14142136, 0.21447611, 0.1183216 , 0.23664319, 0.12247449,\n",
              "       0.18439089, 0.07745967, 0.32249031, 0.12247449, 0.2258318 ,\n",
              "       0.16733201])"
            ]
          },
          "metadata": {},
          "execution_count": 69
        }
      ]
    },
    {
      "cell_type": "code",
      "source": [
        "# 2 steps\n",
        "creg = ClassicalRegister(4)\n",
        "qcirc2dd = dd_pm.run(qc_2_steps_t)\n",
        "qcirc2dd.add_register(creg)\n",
        "qcirc2dd.measure([0, 1, 2, 3], [0, 1, 2, 3])\n",
        "job = backend.run(qcirc2dd, shots=1000)\n",
        "counts2dd = job.result().get_counts()\n",
        "\n",
        "psi2dd = np.array([counts2dd.get(bin(i).replace('0b', '').zfill(n), 0) for i in range(grid_points)])\n",
        "psi2dd = np.sqrt(psi2dd/shots)\n",
        "psi2dd = psi2dd / np.linalg.norm(psi2dd) if np.linalg.norm(psi2dd) > 0 else psi2dd\n",
        "\n",
        "psi2dd"
      ],
      "metadata": {
        "colab": {
          "base_uri": "https://localhost:8080/"
        },
        "id": "-r6mInnHSWrS",
        "outputId": "b951f084-7aa7-41f9-b8c9-ee0787e151d3"
      },
      "execution_count": 70,
      "outputs": [
        {
          "output_type": "execute_result",
          "data": {
            "text/plain": [
              "array([0.41833001, 0.21447611, 0.27568098, 0.18973666, 0.29832868,\n",
              "       0.14491377, 0.27018512, 0.18165902, 0.26832816, 0.14832397,\n",
              "       0.27568098, 0.18439089, 0.32710854, 0.17320508, 0.28106939,\n",
              "       0.17606817])"
            ]
          },
          "metadata": {},
          "execution_count": 70
        }
      ]
    },
    {
      "cell_type": "code",
      "source": [
        "# 3 steps\n",
        "creg = ClassicalRegister(4)\n",
        "qcirc3dd = dd_pm.run(qc_3_steps_t)\n",
        "qcirc3dd.add_register(creg)\n",
        "qcirc3dd.measure([0, 1, 2, 3], [0, 1, 2, 3])\n",
        "job = backend.run(qcirc3dd, shots=1000)\n",
        "counts3dd = job.result().get_counts()\n",
        "\n",
        "psi3dd = np.array([counts3dd.get(bin(i).replace('0b', '').zfill(n), 0) for i in range(grid_points)])\n",
        "psi3dd = np.sqrt(psi3dd/shots)\n",
        "psi3dd = psi3dd / np.linalg.norm(psi3dd) if np.linalg.norm(psi3dd) > 0 else psi3dd\n",
        "\n",
        "psi3dd"
      ],
      "metadata": {
        "colab": {
          "base_uri": "https://localhost:8080/"
        },
        "id": "5P8zm5j4Sseg",
        "outputId": "bd1dff2b-17d1-42ec-bae6-359642cfa4c3"
      },
      "execution_count": 71,
      "outputs": [
        {
          "output_type": "execute_result",
          "data": {
            "text/plain": [
              "array([0.35637059, 0.20736441, 0.3082207 , 0.20736441, 0.28635642,\n",
              "       0.20736441, 0.2792848 , 0.18165902, 0.29664794, 0.18708287,\n",
              "       0.27202941, 0.17888544, 0.29154759, 0.18165902, 0.26645825,\n",
              "       0.19493589])"
            ]
          },
          "metadata": {},
          "execution_count": 71
        }
      ]
    },
    {
      "cell_type": "markdown",
      "source": [
        "Now, we will first print the depth and gate counts with DD, then we will compare the results of L2 error to see if DD gave any clear gain."
      ],
      "metadata": {
        "id": "nJwY0RAGTG8A"
      }
    },
    {
      "cell_type": "code",
      "source": [
        "print(\"Depth of 1 step with dd = \", qcirc1dd.depth())\n",
        "print(\"Gates for 1 step with dd: \", qcirc1dd.count_ops())\n",
        "\n",
        "print(\"Depth of 2 steps with dd = \", qcirc2dd.depth())\n",
        "print(\"Gates for 2 steps with dd : \", qcirc2dd.count_ops())\n",
        "\n",
        "print(\"Depth of 3 steps with dd = \", qcirc3dd.depth())\n",
        "print(\"Gates for 3 steps with dd : \", qcirc3dd.count_ops())"
      ],
      "metadata": {
        "colab": {
          "base_uri": "https://localhost:8080/"
        },
        "id": "uJN_nVSuTQGS",
        "outputId": "ab2cc96c-5a68-4e6f-858f-76487896fc5e"
      },
      "execution_count": 72,
      "outputs": [
        {
          "output_type": "stream",
          "name": "stdout",
          "text": [
            "Depth of 1 step with dd =  230\n",
            "Gates for 1 step with dd:  OrderedDict([('delay', 176), ('rz', 89), ('x', 73), ('y', 68), ('sx', 55), ('cx', 50), ('measure', 4)])\n",
            "Depth of 2 steps with dd =  449\n",
            "Gates for 2 steps with dd :  OrderedDict([('delay', 355), ('rz', 170), ('x', 149), ('y', 138), ('sx', 103), ('cx', 100), ('measure', 4)])\n",
            "Depth of 3 steps with dd =  668\n",
            "Gates for 3 steps with dd :  OrderedDict([('delay', 534), ('rz', 251), ('x', 225), ('y', 208), ('sx', 151), ('cx', 150), ('measure', 4)])\n"
          ]
        }
      ]
    },
    {
      "cell_type": "code",
      "source": [
        "print(\"----------------------------------------------------------------------------------------------\")\n",
        "print(\"L2 error for 1 step between ideal and noisy = \", np.linalg.norm(ideal_psi_1 - psi1))\n",
        "print(\"L2 error for 1 step between ideal and noisy with DD = \", np.linalg.norm(ideal_psi_1 - psi1dd))\n",
        "\n",
        "print(\"----------------------------------------------------------------------------------------------\")\n",
        "print(\"L2 error for 2 steps between ideal and noisy = \", np.linalg.norm(ideal_psi_2 - psi2))\n",
        "print(\"L2 error for 2 steps between ideal and noisy with DD = \", np.linalg.norm(ideal_psi_2 - psi2dd))\n",
        "\n",
        "print(\"----------------------------------------------------------------------------------------------\")\n",
        "print(\"L2 error for 3 steps between ideal and noisy = \", np.linalg.norm(ideal_psi_3 - psi3))\n",
        "print(\"L2 error for 3 steps between ideal and noisy with DD = \", np.linalg.norm(ideal_psi_3 - psi3dd))"
      ],
      "metadata": {
        "colab": {
          "base_uri": "https://localhost:8080/"
        },
        "id": "LUDHQrRlTqhR",
        "outputId": "eedc52ec-c46d-4f41-89ce-01be86a035b8"
      },
      "execution_count": 73,
      "outputs": [
        {
          "output_type": "stream",
          "name": "stdout",
          "text": [
            "----------------------------------------------------------------------------------------------\n",
            "L2 error for 1 step between ideal and noisy =  0.751244016426199\n",
            "L2 error for 1 step between ideal and noisy with DD =  0.8774868376827626\n",
            "----------------------------------------------------------------------------------------------\n",
            "L2 error for 2 steps between ideal and noisy =  0.9552954140234554\n",
            "L2 error for 2 steps between ideal and noisy with DD =  1.0710063465785529\n",
            "----------------------------------------------------------------------------------------------\n",
            "L2 error for 3 steps between ideal and noisy =  1.0479295377070204\n",
            "L2 error for 3 steps between ideal and noisy with DD =  1.1286416185343153\n"
          ]
        }
      ]
    },
    {
      "cell_type": "markdown",
      "source": [
        "We can clearly see that with DD we got worse errors for all the 3 circuits instead of less error. In fact, in the next section we will find that ZNE will give a big improvement instead of increasing the errors."
      ],
      "metadata": {
        "id": "7d_kH6j0VC1r"
      }
    },
    {
      "cell_type": "markdown",
      "source": [
        "### ZNE:\n",
        "\n",
        "Zero-noise extrapolation estimates ideal quantum results by running a circuit at multiple amplified noise levels and fitting a curve to these noisy outputs. It scales noise through gate stretching or idle insertions to probe how errors grow. A polynomial (e.g., Richardson) fit then predicts the observable at zero noise. In our case we will apply ZNE on the values of the statevector."
      ],
      "metadata": {
        "id": "YejXnNBdbAMQ"
      }
    },
    {
      "cell_type": "code",
      "source": [
        "def global_fold_zne(circuit: QuantumCircuit, n: int, backend):\n",
        "    \"\"\"\n",
        "    Return the statevector built from the counts for n folds.\n",
        "\n",
        "    The resulting circuit implements C (C† C)^(n//2), preserving the logical action\n",
        "    of C while amplifying its noise by a specific factor.\n",
        "\n",
        "    Parameters:\n",
        "      circuit: QuantumCircuit\n",
        "        The original circuit C you want to fold.\n",
        "      n: int\n",
        "        Number of full-fold repetitions.\n",
        "\n",
        "    Returns:\n",
        "      ndarray\n",
        "        Statevector representing the vector psi.\n",
        "    \"\"\"\n",
        "    # start with one copy of C\n",
        "    folded = circuit.copy()\n",
        "\n",
        "    # each iteration appends C† then C\n",
        "    for _ in range(n//2):\n",
        "        folded.compose(circuit.inverse(), inplace=True)\n",
        "        folded.compose(circuit, inplace=True)\n",
        "    creg = ClassicalRegister(4)\n",
        "    folded.add_register(creg)\n",
        "\n",
        "    # Now you can measure\n",
        "    folded.measure([0, 1, 2, 3], [0, 1, 2, 3])\n",
        "    job = backend.run(folded, shots=1000)\n",
        "    counts = job.result().get_counts()\n",
        "\n",
        "    n = 4\n",
        "    grid_points = 2**n\n",
        "    shots = 1000\n",
        "    psi = np.array([counts.get(bin(i).replace('0b', '').zfill(n), 0) for i in range(grid_points)])\n",
        "    psi = np.sqrt(psi/shots)\n",
        "    psi = psi / np.linalg.norm(psi) if np.linalg.norm(psi) > 0 else psi\n",
        "\n",
        "    return psi"
      ],
      "metadata": {
        "id": "ZiJV-MQYdR8_"
      },
      "execution_count": 74,
      "outputs": []
    },
    {
      "cell_type": "markdown",
      "source": [
        "In the following cells we will apply ZNE on the 3 circuits and we will compare the L2 error before and after ZNE for each circuit, we will also plot the resulting plots for the first circuit only (first step)."
      ],
      "metadata": {
        "id": "IRyfHMOFjAeL"
      }
    },
    {
      "cell_type": "code",
      "source": [
        "# 1 step"
      ],
      "metadata": {
        "id": "JM3kDox-jWpp"
      },
      "execution_count": 75,
      "outputs": []
    },
    {
      "cell_type": "code",
      "source": [
        "psi1_n3 = global_fold_zne(circuit=qc_1_step_t, n=3, backend=backend) # folding n = 3\n",
        "psi1_n5 = global_fold_zne(circuit=qc_1_step_t, n=5, backend=backend) # folding n = 5\n",
        "psi1_n7 = global_fold_zne(circuit=qc_1_step_t, n=7, backend=backend) # folding n = 7\n",
        "\n",
        "psi1_zne = (35*psi1 - 35*psi1_n3 + 21*psi1_n5 - 5*psi1_n7) / 16\n",
        "x1 = np.linalg.norm(ideal_psi_1 - psi1)\n",
        "y1 = np.linalg.norm(ideal_psi_1 - psi1_zne)\n",
        "\n",
        "print(\"L2 error for 1 step between ideal and noisy = \", x1)\n",
        "print(\"L2 error for 1 step with zne = \", y1)\n",
        "print(\"L2 error percentage improvement = \", 100 - y1/x1*100, \"%\" )"
      ],
      "metadata": {
        "colab": {
          "base_uri": "https://localhost:8080/"
        },
        "id": "D1EW4gNydTIT",
        "outputId": "7571b114-3cbf-43b1-bf57-ce89750f6be6"
      },
      "execution_count": 76,
      "outputs": [
        {
          "output_type": "stream",
          "name": "stdout",
          "text": [
            "L2 error for 1 step between ideal and noisy =  0.751244016426199\n",
            "L2 error for 1 step with zne =  0.5723135645764938\n",
            "L2 error percentage improvement =  23.81788712286975 %\n"
          ]
        }
      ]
    },
    {
      "cell_type": "markdown",
      "source": [
        "This formula implements a third-order Richardson extrapolation using noise scale factors 1, 3, 5, and 7. Coefficients 35, –35, 21, and –5 are chosen so that error terms up to cubic order cancel when summed. Dividing the weighted sum by 16 normalizes it to yield the zero-noise estimate ψ₁_zne.\n",
        "\n",
        "\n",
        "\\begin{align}\n",
        "\\psi_{1}^{\\mathrm{ZNE}} = \\frac{35\\,\\psi_{1} \\;-\\; 35\\,\\psi_{1,n3} \\;+\\; 21\\,\\psi_{1,n5} \\;-\\; 5\\,\\psi_{1,n7}}{16}\n",
        "\\end{align}"
      ],
      "metadata": {
        "id": "tcz5KVjf1eP5"
      }
    },
    {
      "cell_type": "code",
      "source": [
        "plt.plot(np.linspace(0, 1, 2**4), np.real(ideal_psi_1), label='ideal')\n",
        "plt.plot(np.linspace(0, 1, 2**4), np.real(psi1), label='noisy')\n",
        "plt.plot(np.linspace(0, 1, 2**4), np.real(psi1_zne), label='noisy+zne')\n",
        "plt.title(\"ψ for 1 time step\")\n",
        "plt.xlabel(\"x values, x = [0,1]\")\n",
        "plt.legend()"
      ],
      "metadata": {
        "colab": {
          "base_uri": "https://localhost:8080/",
          "height": 490
        },
        "id": "H13X_2ateAQz",
        "outputId": "c0882b13-2296-430d-a2b9-bda740587a7d"
      },
      "execution_count": 77,
      "outputs": [
        {
          "output_type": "execute_result",
          "data": {
            "text/plain": [
              "<matplotlib.legend.Legend at 0x79dc2ef3e350>"
            ]
          },
          "metadata": {},
          "execution_count": 77
        },
        {
          "output_type": "display_data",
          "data": {
            "text/plain": [
              "<Figure size 640x480 with 1 Axes>"
            ],
            "image/png": "[encoded data removed]"
          },
          "metadata": {}
        }
      ]
    },
    {
      "cell_type": "code",
      "source": [
        "def recover_u_from_psi(psi, dx, nu, epsilon=1e-10):\n",
        "    \"\"\"\n",
        "    Recovers the velocity field u(x) from the scalar function psi(x) using the\n",
        "    Cole-Hopf transformation, which involves calculating the spatial derivative\n",
        "    of log(psi).\n",
        "\n",
        "    The Cole-Hopf transformation is typically given by:\n",
        "    u(x) = -2 * nu * (d/dx(log(psi(x))))\n",
        "\n",
        "    This function approximates the derivative using a finite difference method.\n",
        "\n",
        "    Args:\n",
        "        psi (numpy.ndarray): A 1D NumPy array representing the scalar function psi(x).\n",
        "                             It is assumed to be real-valued.\n",
        "        dx (float): The spatial step size (delta x) between points in the psi array.\n",
        "        nu (float): The kinematic viscosity parameter, a constant in the\n",
        "                    Cole-Hopf transformation.\n",
        "        epsilon (float, optional): A small positive value used to clip `psi`\n",
        "                                   to prevent taking the logarithm of zero or\n",
        "                                   negative numbers, which would result in\n",
        "                                   NaN or infinite values. Defaults to 1e-10.\n",
        "\n",
        "    Returns:\n",
        "        numpy.ndarray: A 1D NumPy array representing the recovered velocity field u(x).\n",
        "    \"\"\"\n",
        "    psi_clipped = np.clip(np.abs(psi), epsilon, None)\n",
        "    log_psi = np.log(psi_clipped)\n",
        "\n",
        "    dlog_psi_dx = (np.roll(log_psi, -1) - np.roll(log_psi, 1)) / (2 * dx)\n",
        "    dlog_psi_dx[0] = (log_psi[1] - log_psi[0]) / dx\n",
        "    dlog_psi_dx[-1] = (log_psi[-1] - log_psi[-2]) / dx\n",
        "\n",
        "    return -2 * nu * dlog_psi_dx"
      ],
      "metadata": {
        "id": "Zz12IfiJmiHP"
      },
      "execution_count": 78,
      "outputs": []
    },
    {
      "cell_type": "code",
      "source": [
        "plt.plot(np.linspace(0, 1, 2**4), recover_u_from_psi(ideal_psi_1, 1/(2**4), 0.01), label='ideal')\n",
        "plt.plot(np.linspace(0, 1, 2**4), recover_u_from_psi(psi1, 1/(2**4), 0.01), label='noisy')\n",
        "plt.plot(np.linspace(0, 1, 2**4), recover_u_from_psi(psi1_zne, 1/(2**4), 0.01), label='noisy+zne')\n",
        "plt.title(\"u values for 1 time step, u = -2*nu*(dψ/dx)/ψ\")\n",
        "plt.xlabel(\"x values, x = [0,1]\")\n",
        "plt.legend()"
      ],
      "metadata": {
        "colab": {
          "base_uri": "https://localhost:8080/",
          "height": 490
        },
        "id": "inyg4XM7iVgI",
        "outputId": "92481402-dae6-4ccc-99fd-bef6c566ada9"
      },
      "execution_count": 79,
      "outputs": [
        {
          "output_type": "execute_result",
          "data": {
            "text/plain": [
              "<matplotlib.legend.Legend at 0x79dc2ff6e950>"
            ]
          },
          "metadata": {},
          "execution_count": 79
        },
        {
          "output_type": "display_data",
          "data": {
            "text/plain": [
              "<Figure size 640x480 with 1 Axes>"
            ],
            "image/png": "[encoded data removed]"
          },
          "metadata": {}
        }
      ]
    },
    {
      "cell_type": "code",
      "source": [
        "psi2_n3 = global_fold_zne(circuit=qc_2_steps_t, n=3, backend=backend) # folding n = 3\n",
        "psi2_n5 = global_fold_zne(circuit=qc_2_steps_t, n=5, backend=backend) # folding n = 5\n",
        "psi2_n7 = global_fold_zne(circuit=qc_2_steps_t, n=7, backend=backend) # folding n = 7\n",
        "\n",
        "psi2_zne = (35*psi2 - 35*psi2_n3 + 21*psi2_n5 - 5*psi2_n7) / 16\n",
        "x2 = np.linalg.norm(ideal_psi_2 - psi2)\n",
        "y2 = np.linalg.norm(ideal_psi_2 - psi2_zne)\n",
        "\n",
        "print(\"L2 error for 2 steps between ideal and noisy = \", x2)\n",
        "print(\"L2 error for 2 steps with zne = \", y2)\n",
        "print(\"L2 error percentage improvement = \", 100 - y2/x2*100, \"%\" )"
      ],
      "metadata": {
        "colab": {
          "base_uri": "https://localhost:8080/"
        },
        "id": "CxK2IKaHhETs",
        "outputId": "6b8a8e76-0240-4296-b3a4-bbdc470afb94"
      },
      "execution_count": 80,
      "outputs": [
        {
          "output_type": "stream",
          "name": "stdout",
          "text": [
            "L2 error for 2 steps between ideal and noisy =  0.9552954140234554\n",
            "L2 error for 2 steps with zne =  0.8147985109086373\n",
            "L2 error percentage improvement =  14.707168175662204 %\n"
          ]
        }
      ]
    },
    {
      "cell_type": "code",
      "source": [
        "psi3_n3 = global_fold_zne(circuit=qc_3_steps_t, n=3, backend=backend) # folding n = 3\n",
        "psi3_n5 = global_fold_zne(circuit=qc_3_steps_t, n=5, backend=backend) # folding n = 5\n",
        "psi3_n7 = global_fold_zne(circuit=qc_3_steps_t, n=7, backend=backend) # folding n = 7\n",
        "\n",
        "psi3_zne = (35*psi3 - 35*psi3_n3 + 21*psi3_n5 - 5*psi3_n7) / 16\n",
        "x3 = np.linalg.norm(ideal_psi_3 - psi3)\n",
        "y3 = np.linalg.norm(ideal_psi_3 - psi3_zne)\n",
        "\n",
        "print(\"L2 error for 3 steps between ideal and noisy = \", x3)\n",
        "print(\"L2 error for 3 steps with zne = \", y3)\n",
        "print(\"L2 error percentage improvement = \", 100 - y3/x3*100, \"%\" )"
      ],
      "metadata": {
        "colab": {
          "base_uri": "https://localhost:8080/"
        },
        "id": "rh6zMiJEhXyO",
        "outputId": "1c4858f8-5130-4808-efef-1c5cceced13b"
      },
      "execution_count": 81,
      "outputs": [
        {
          "output_type": "stream",
          "name": "stdout",
          "text": [
            "L2 error for 3 steps between ideal and noisy =  1.0479295377070204\n",
            "L2 error for 3 steps with zne =  0.9274730298010342\n",
            "L2 error percentage improvement =  11.494714441350467 %\n"
          ]
        }
      ]
    },
    {
      "cell_type": "markdown",
      "source": [
        "### Comparison table:"
      ],
      "metadata": {
        "id": "qWGRxgYqnMvV"
      }
    },
    {
      "cell_type": "markdown",
      "source": [
        "<table border=\"1\">\n",
        "  <thead>\n",
        "    <tr>\n",
        "      <th></th>\n",
        "      <th>Steps</th>\n",
        "      <th>Depth</th>\n",
        "      <th>1 qubit gates</th>\n",
        "      <th>2 qubit gates</th>\n",
        "      <th>Average T1</th>\n",
        "      <th>Average T2</th>\n",
        "      <th>Average readout error</th>\n",
        "      <th>1 qubit gates error</th>\n",
        "      <th>2 qubit gates error</th>\n",
        "      <th>L2 error</th>\n",
        "      <th>% improvement</th>\n",
        "    </tr>\n",
        "  </thead>\n",
        "  <tbody>\n",
        "    <!-- first block: first‐col row 1 of 3 -->\n",
        "    <tr>\n",
        "      <td rowspan=\"3\">Without error mitigation</td>\n",
        "      <td>1</td><td>104</td><td>149</td><td>50</td>\n",
        "      <td>148s</td><td>60.18s</td><td>3.73%</td><td>0.37183e-3</td><td>9.95e-3</td><td>0.751</td><td>-</td>\n",
        "    </tr>\n",
        "    <tr>\n",
        "      <td>2</td><td>203</td><td>284</td><td>100</td>\n",
        "      <td>148s</td><td>60.18s</td><td>3.73%</td><td>0.37183e-3</td><td>9.95e-3</td><td>0.955</td><td>-</td>\n",
        "    </tr>\n",
        "    <tr>\n",
        "      <td>3</td><td>302</td><td>419</td><td>150</td>\n",
        "      <td>148s</td><td>60.18s</td><td>3.73%</td><td>0.37183e-3</td><td>9.95e-3</td><td>1.047</td><td>-</td>\n",
        "    </tr>\n",
        "    <!-- first block: first‐col row 1 of 3 -->\n",
        "    <tr>\n",
        "      <td rowspan=\"3\">Dynamic decoupling</td>\n",
        "      <td>1</td><td>230</td><td>465</td><td>50</td>\n",
        "      <td>148s</td><td>60.18s</td><td>3.73%</td><td>0.37183e-3</td><td>9.95e-3</td><td>0.877</td><td>no improvement</td>\n",
        "    </tr>\n",
        "    <tr>\n",
        "      <td>2</td><td>449</td><td>919</td><td>100</td>\n",
        "      <td>148s</td><td>60.18s</td><td>3.73%</td><td>0.37183e-3</td><td>9.95e-3</td><td>1.071</td><td>no improvement</td>\n",
        "    </tr>\n",
        "    <tr>\n",
        "      <td>3</td><td>668</td><td>1373</td><td>150</td>\n",
        "      <td>148s</td><td>60.18s</td><td>3.73%</td><td>0.37183e-3</td><td>9.95e-3</td><td>1.128</td><td>no improvement</td>\n",
        "    </tr>\n",
        "    <!-- first block: first‐col row 1 of 3 -->\n",
        "    <tr>\n",
        "      <td rowspan=\"3\">Zero noise extrapolation</td>\n",
        "      <td>1</td><td>n*104</td><td>149n</td><td>50n</td>\n",
        "      <td>148s</td><td>60.18s</td><td>3.73%</td><td>0.37183e-3</td><td>9.95e-3</td><td>0.572</td><td>23.8178%</td>\n",
        "    </tr>\n",
        "    <tr>\n",
        "      <td>2</td><td>n*203</td><td>284n</td><td>100n</td>\n",
        "      <td>148s</td><td>60.18s</td><td>3.73%</td><td>0.37183e-3</td><td>9.95e-3</td><td>0.814</td><td>14.7%</td>\n",
        "    </tr>\n",
        "    <tr>\n",
        "      <td>3</td><td>n*302</td><td>419n</td><td>150n</td>\n",
        "      <td>148s</td><td>60.18s</td><td>3.73%</td><td>0.37183e-3</td><td>9.95e-3</td><td>0.927</td><td>11.49%</td>\n",
        "    </tr>\n",
        "  </tbody>\n",
        "</table>\n"
      ],
      "metadata": {
        "id": "SLgVJIgQwWU-"
      }
    },
    {
      "cell_type": "markdown",
      "source": [
        "Several things worth mentioning in the above table. First, in ZNE, n is the number of folds.\n",
        "\n",
        "Second, since each qubit has its T1, T2 and 1 qubit gate error, the value was averaged from all the values, the same for 2 qubit gates.\n",
        "\n",
        "In addition to that, although we have decreased the error by around 24% max for 1 step, the plots still do not look very good especially for u, while for $\\psi$ looks good.\n",
        "\n",
        "More errors should be applied in the future like readout error mitigation and the advancement in hardware especially error rates will be of great benefit also."
      ],
      "metadata": {
        "id": "aWl6kQ66HiiB"
      }
    },
    {
      "cell_type": "markdown",
      "source": [
        "### Versions:"
      ],
      "metadata": {
        "id": "mP8D0vVjDHqy"
      }
    },
    {
      "cell_type": "code",
      "source": [
        "# python version\n",
        "import sys\n",
        "print(sys.version)"
      ],
      "metadata": {
        "colab": {
          "base_uri": "https://localhost:8080/"
        },
        "id": "JrlduDwvDJ94",
        "outputId": "e1b519f8-9270-4787-ee43-878702f08c12"
      },
      "execution_count": 82,
      "outputs": [
        {
          "output_type": "stream",
          "name": "stdout",
          "text": [
            "3.11.13 (main, Jun  4 2025, 08:57:29) [GCC 11.4.0]\n"
          ]
        }
      ]
    },
    {
      "cell_type": "code",
      "source": [
        "import pkg_resources\n",
        "\n",
        "# Loop through installed packages and filter those starting with 'qiskit'\n",
        "for dist in pkg_resources.working_set:\n",
        "    if dist.project_name.lower().startswith(\"qiskit\"):\n",
        "        print(f\"{dist.project_name} == {dist.version}\")"
      ],
      "metadata": {
        "colab": {
          "base_uri": "https://localhost:8080/"
        },
        "id": "tmvgiXH2DQpX",
        "outputId": "608976da-e8b5-467a-ce23-4e434c0aea1a"
      },
      "execution_count": 83,
      "outputs": [
        {
          "output_type": "stream",
          "name": "stdout",
          "text": [
            "qiskit == 2.1.1\n",
            "qiskit-aer == 0.17.1\n",
            "qiskit-ibm-runtime == 0.41.0\n"
          ]
        }
      ]
    }
  ]
}